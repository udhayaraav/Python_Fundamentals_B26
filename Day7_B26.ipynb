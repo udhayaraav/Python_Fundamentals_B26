{
 "cells": [
  {
   "cell_type": "code",
   "execution_count": 1,
   "metadata": {},
   "outputs": [],
   "source": [
    "##Continution On list"
   ]
  },
  {
   "cell_type": "code",
   "execution_count": 7,
   "metadata": {},
   "outputs": [
    {
     "name": "stdout",
     "output_type": "stream",
     "text": [
      "['kumar', 'udhaya', 'kiran', 'sathish', 'thiru', 'sound', 'faiyaz']\n"
     ]
    }
   ],
   "source": [
    "students = ['kumar','udhaya','kiran','sathish','thiru','sound','faiyaz']\n",
    "print(students)"
   ]
  },
  {
   "cell_type": "code",
   "execution_count": 8,
   "metadata": {},
   "outputs": [],
   "source": [
    "##Requirement: Print the output in reverse order"
   ]
  },
  {
   "cell_type": "code",
   "execution_count": 9,
   "metadata": {},
   "outputs": [
    {
     "name": "stdout",
     "output_type": "stream",
     "text": [
      "['faiyaz', 'sound', 'thiru', 'sathish', 'kiran', 'udhaya', 'kumar']\n"
     ]
    }
   ],
   "source": [
    "students.reverse()\n",
    "print(students)"
   ]
  },
  {
   "cell_type": "code",
   "execution_count": 11,
   "metadata": {},
   "outputs": [],
   "source": [
    "##Introduction to Looping statement\n",
    "##for LOOPING"
   ]
  },
  {
   "cell_type": "code",
   "execution_count": 12,
   "metadata": {},
   "outputs": [],
   "source": [
    "##General Syntax\n",
    "#for temvar in mainvar"
   ]
  },
  {
   "cell_type": "code",
   "execution_count": 13,
   "metadata": {},
   "outputs": [
    {
     "name": "stdout",
     "output_type": "stream",
     "text": [
      "faiyaz\n",
      "sound\n",
      "thiru\n",
      "sathish\n",
      "kiran\n",
      "udhaya\n",
      "kumar\n"
     ]
    }
   ],
   "source": [
    "for x in students:\n",
    "    print(x)"
   ]
  },
  {
   "cell_type": "code",
   "execution_count": 14,
   "metadata": {},
   "outputs": [
    {
     "name": "stdout",
     "output_type": "stream",
     "text": [
      "good job,Faiyaz\n"
     ]
    }
   ],
   "source": [
    "print(f\"good job,{students[0].title()}\")"
   ]
  },
  {
   "cell_type": "code",
   "execution_count": 15,
   "metadata": {},
   "outputs": [
    {
     "name": "stdout",
     "output_type": "stream",
     "text": [
      "keep it up,faiyaz\n",
      "keep it up,sound\n",
      "keep it up,thiru\n",
      "keep it up,sathish\n",
      "keep it up,kiran\n",
      "keep it up,udhaya\n",
      "keep it up,kumar\n"
     ]
    }
   ],
   "source": [
    "for x in students:\n",
    "    print(f\"keep it up,{x}\")"
   ]
  },
  {
   "cell_type": "code",
   "execution_count": 17,
   "metadata": {},
   "outputs": [],
   "source": [
    "##Requirement is need to add extra content in this"
   ]
  },
  {
   "cell_type": "code",
   "execution_count": 18,
   "metadata": {},
   "outputs": [
    {
     "name": "stdout",
     "output_type": "stream",
     "text": [
      "keep it up,faiyaz\n",
      "good job,faiyaz\n",
      "keep it up,sound\n",
      "good job,sound\n",
      "keep it up,thiru\n",
      "good job,thiru\n",
      "keep it up,sathish\n",
      "good job,sathish\n",
      "keep it up,kiran\n",
      "good job,kiran\n",
      "keep it up,udhaya\n",
      "good job,udhaya\n",
      "keep it up,kumar\n",
      "good job,kumar\n"
     ]
    }
   ],
   "source": [
    "for x in students:\n",
    "    print(f\"keep it up,{x}\")\n",
    "    print(f\"good job,{x}\")"
   ]
  },
  {
   "cell_type": "code",
   "execution_count": 19,
   "metadata": {},
   "outputs": [],
   "source": [
    "##Improvisation of codes"
   ]
  },
  {
   "cell_type": "code",
   "execution_count": 20,
   "metadata": {},
   "outputs": [
    {
     "name": "stdout",
     "output_type": "stream",
     "text": [
      "keep it up,faiyaz\n",
      "good job,faiyaz.\n",
      "\n",
      "keep it up,sound\n",
      "good job,sound.\n",
      "\n",
      "keep it up,thiru\n",
      "good job,thiru.\n",
      "\n",
      "keep it up,sathish\n",
      "good job,sathish.\n",
      "\n",
      "keep it up,kiran\n",
      "good job,kiran.\n",
      "\n",
      "keep it up,udhaya\n",
      "good job,udhaya.\n",
      "\n",
      "keep it up,kumar\n",
      "good job,kumar.\n",
      "\n"
     ]
    }
   ],
   "source": [
    "for x in students:\n",
    "    print(f\"keep it up,{x}\")\n",
    "    print(f\"good job,{x}.\\n\")"
   ]
  },
  {
   "cell_type": "code",
   "execution_count": 22,
   "metadata": {},
   "outputs": [],
   "source": [
    "##Adding General statement"
   ]
  },
  {
   "cell_type": "code",
   "execution_count": 23,
   "metadata": {},
   "outputs": [
    {
     "name": "stdout",
     "output_type": "stream",
     "text": [
      "keep it up,faiyaz\n",
      "good job,faiyaz.\n",
      "\n",
      "keep it up,sound\n",
      "good job,sound.\n",
      "\n",
      "keep it up,thiru\n",
      "good job,thiru.\n",
      "\n",
      "keep it up,sathish\n",
      "good job,sathish.\n",
      "\n",
      "keep it up,kiran\n",
      "good job,kiran.\n",
      "\n",
      "keep it up,udhaya\n",
      "good job,udhaya.\n",
      "\n",
      "keep it up,kumar\n",
      "good job,kumar.\n",
      "\n",
      "Thank you\n"
     ]
    }
   ],
   "source": [
    "for x in students:\n",
    "    print(f\"keep it up,{x}\")\n",
    "    print(f\"good job,{x}.\\n\")\n",
    "print(\"Thank you\")"
   ]
  },
  {
   "cell_type": "code",
   "execution_count": null,
   "metadata": {},
   "outputs": [],
   "source": []
  }
 ],
 "metadata": {
  "kernelspec": {
   "display_name": "Python 3",
   "language": "python",
   "name": "python3"
  },
  "language_info": {
   "codemirror_mode": {
    "name": "ipython",
    "version": 3
   },
   "file_extension": ".py",
   "mimetype": "text/x-python",
   "name": "python",
   "nbconvert_exporter": "python",
   "pygments_lexer": "ipython3",
   "version": "3.8.3"
  }
 },
 "nbformat": 4,
 "nbformat_minor": 4
}
