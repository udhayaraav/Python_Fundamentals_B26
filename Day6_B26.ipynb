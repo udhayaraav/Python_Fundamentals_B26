{
 "cells": [
  {
   "cell_type": "code",
   "execution_count": 1,
   "metadata": {},
   "outputs": [],
   "source": [
    "## Introduction to list of data type\n",
    "##Defination: List is an ordered collection of data\n",
    "##Classification: A list is classified as an mutable data type(modify/alter once it has been declared)\n",
    "##define a list: [] square brackets\n"
   ]
  },
  {
   "cell_type": "code",
   "execution_count": 2,
   "metadata": {},
   "outputs": [
    {
     "name": "stdout",
     "output_type": "stream",
     "text": [
      "['udhaya', 'faiyaz', 'kumar', 'kiran', 'manju', 'thiru', 'sathish']\n"
     ]
    }
   ],
   "source": [
    "students = ['udhaya','faiyaz','kumar','kiran','manju','thiru','sathish']\n",
    "print(students)"
   ]
  },
  {
   "cell_type": "code",
   "execution_count": 3,
   "metadata": {},
   "outputs": [
    {
     "data": {
      "text/plain": [
       "list"
      ]
     },
     "execution_count": 3,
     "metadata": {},
     "output_type": "execute_result"
    }
   ],
   "source": [
    "type(students) # Checking variable type"
   ]
  },
  {
   "cell_type": "code",
   "execution_count": 5,
   "metadata": {},
   "outputs": [],
   "source": [
    "##Introdcution to Indexing"
   ]
  },
  {
   "cell_type": "code",
   "execution_count": 6,
   "metadata": {},
   "outputs": [],
   "source": [
    "##Requirement: How to access the particular element in a list.."
   ]
  },
  {
   "cell_type": "code",
   "execution_count": 7,
   "metadata": {},
   "outputs": [
    {
     "name": "stdout",
     "output_type": "stream",
     "text": [
      "['udhaya', 'faiyaz', 'kumar', 'kiran', 'manju', 'thiru', 'sathish']\n"
     ]
    }
   ],
   "source": [
    "print(students)"
   ]
  },
  {
   "cell_type": "code",
   "execution_count": 8,
   "metadata": {},
   "outputs": [
    {
     "name": "stdout",
     "output_type": "stream",
     "text": [
      "kumar\n"
     ]
    }
   ],
   "source": [
    "print(students[2])"
   ]
  },
  {
   "cell_type": "code",
   "execution_count": 9,
   "metadata": {},
   "outputs": [
    {
     "name": "stdout",
     "output_type": "stream",
     "text": [
      "sathish\n"
     ]
    }
   ],
   "source": [
    "print(students[6])"
   ]
  },
  {
   "cell_type": "code",
   "execution_count": 10,
   "metadata": {},
   "outputs": [
    {
     "name": "stdout",
     "output_type": "stream",
     "text": [
      "<built-in method title of str object at 0x111b64ef0>\n"
     ]
    }
   ],
   "source": [
    "print(students[2].title)"
   ]
  },
  {
   "cell_type": "code",
   "execution_count": 12,
   "metadata": {},
   "outputs": [
    {
     "name": "stdout",
     "output_type": "stream",
     "text": [
      "Kumar\n"
     ]
    }
   ],
   "source": [
    "print(students[2].title())"
   ]
  },
  {
   "cell_type": "code",
   "execution_count": 13,
   "metadata": {},
   "outputs": [],
   "source": [
    "##Requirement: How to convert the output todatlly to UPPER case.. "
   ]
  },
  {
   "cell_type": "code",
   "execution_count": 15,
   "metadata": {},
   "outputs": [
    {
     "name": "stdout",
     "output_type": "stream",
     "text": [
      "KUMAR\n"
     ]
    }
   ],
   "source": [
    "print(students[2].upper())"
   ]
  },
  {
   "cell_type": "code",
   "execution_count": 16,
   "metadata": {},
   "outputs": [],
   "source": [
    "##Requirement: How to add a new element in a list"
   ]
  },
  {
   "cell_type": "code",
   "execution_count": 17,
   "metadata": {},
   "outputs": [
    {
     "name": "stdout",
     "output_type": "stream",
     "text": [
      "['udhaya', 'faiyaz', 'kumar', 'kiran', 'manju', 'thiru', 'sathish']\n"
     ]
    }
   ],
   "source": [
    "print(students)"
   ]
  },
  {
   "cell_type": "code",
   "execution_count": 20,
   "metadata": {},
   "outputs": [
    {
     "name": "stdout",
     "output_type": "stream",
     "text": [
      "['udhaya', 'faiyaz', 'kumar', 'kiran', 'manju', 'thiru', 'sathish', 'sound', 'sound']\n"
     ]
    }
   ],
   "source": [
    "students.append('sound')\n",
    "print(students)\n"
   ]
  },
  {
   "cell_type": "code",
   "execution_count": 21,
   "metadata": {},
   "outputs": [
    {
     "name": "stdout",
     "output_type": "stream",
     "text": [
      "['udhaya', 'faiyaz', 'kumar', 'kiran', 'manju', 'thiru', 'sathish', 'sound', 'sound', 'axara']\n"
     ]
    }
   ],
   "source": [
    "students.append('axara')\n",
    "print(students)"
   ]
  },
  {
   "cell_type": "code",
   "execution_count": 22,
   "metadata": {},
   "outputs": [
    {
     "name": "stdout",
     "output_type": "stream",
     "text": [
      "['axara', 'udhaya', 'faiyaz', 'kumar', 'kiran', 'manju', 'thiru', 'sathish', 'sound', 'sound', 'axara']\n"
     ]
    }
   ],
   "source": [
    "students.insert(0,'axara')\n",
    "print(students)"
   ]
  },
  {
   "cell_type": "code",
   "execution_count": 23,
   "metadata": {},
   "outputs": [
    {
     "name": "stdout",
     "output_type": "stream",
     "text": [
      "['axara', 'udhaya', 'thiru', 'faiyaz', 'kumar', 'kiran', 'manju', 'thiru', 'sathish', 'sound', 'sound', 'axara']\n"
     ]
    }
   ],
   "source": [
    "students.insert(2,'thiru')\n",
    "print(students)"
   ]
  },
  {
   "cell_type": "code",
   "execution_count": 24,
   "metadata": {},
   "outputs": [],
   "source": [
    "##Requirement: Modify the name which is added into the list"
   ]
  },
  {
   "cell_type": "code",
   "execution_count": 26,
   "metadata": {},
   "outputs": [
    {
     "name": "stdout",
     "output_type": "stream",
     "text": [
      "['kadhi', 'udhaya', 'thiru', 'faiyaz', 'kumar', 'kiran', 'manju', 'thiru', 'sathish', 'sound', 'sound', 'axara']\n"
     ]
    }
   ],
   "source": [
    "students[0] = 'kadhi'\n",
    "print(students)"
   ]
  },
  {
   "cell_type": "code",
   "execution_count": 27,
   "metadata": {},
   "outputs": [],
   "source": [
    "##Requirement: Delete the element in the list"
   ]
  },
  {
   "cell_type": "code",
   "execution_count": 29,
   "metadata": {},
   "outputs": [
    {
     "name": "stdout",
     "output_type": "stream",
     "text": [
      "['kadhi', 'udhaya', 'thiru', 'faiyaz', 'kumar', 'kiran', 'manju', 'thiru', 'sathish', 'sound', 'sound']\n"
     ]
    }
   ],
   "source": [
    "del students[11]\n",
    "print(students)"
   ]
  },
  {
   "cell_type": "code",
   "execution_count": 30,
   "metadata": {},
   "outputs": [
    {
     "name": "stdout",
     "output_type": "stream",
     "text": [
      "['kadhi', 'udhaya', 'thiru', 'faiyaz', 'kumar', 'kiran', 'manju', 'thiru', 'sathish', 'sound']\n"
     ]
    }
   ],
   "source": [
    "del students[10]\n",
    "print(students)"
   ]
  },
  {
   "cell_type": "code",
   "execution_count": 31,
   "metadata": {},
   "outputs": [
    {
     "name": "stdout",
     "output_type": "stream",
     "text": [
      "['kadhi', 'udhaya', 'thiru', 'faiyaz', 'kumar', 'kiran', 'manju', 'thiru', 'sathish']\n"
     ]
    }
   ],
   "source": [
    "x=students.pop()\n",
    "print(students)"
   ]
  },
  {
   "cell_type": "code",
   "execution_count": 32,
   "metadata": {},
   "outputs": [],
   "source": [
    "## The above output the \"sound\" element has been deleted from the last"
   ]
  },
  {
   "cell_type": "code",
   "execution_count": 33,
   "metadata": {},
   "outputs": [],
   "source": [
    "##Introduction To organizing the list"
   ]
  },
  {
   "cell_type": "code",
   "execution_count": 35,
   "metadata": {},
   "outputs": [
    {
     "name": "stdout",
     "output_type": "stream",
     "text": [
      "['kadhi', 'udhaya', 'thiru', 'faiyaz', 'kumar', 'kiran', 'manju', 'thiru', 'sathish']\n"
     ]
    }
   ],
   "source": [
    "print(students)"
   ]
  },
  {
   "cell_type": "code",
   "execution_count": 36,
   "metadata": {},
   "outputs": [],
   "source": [
    "##Requirement: Print the output with Albhabetical order"
   ]
  },
  {
   "cell_type": "code",
   "execution_count": 37,
   "metadata": {},
   "outputs": [],
   "source": [
    "#Two ways \n",
    "#temporary\n",
    "#permanent"
   ]
  },
  {
   "cell_type": "code",
   "execution_count": 39,
   "metadata": {},
   "outputs": [
    {
     "name": "stdout",
     "output_type": "stream",
     "text": [
      "['faiyaz', 'kadhi', 'kiran', 'kumar', 'manju', 'sathish', 'thiru', 'thiru', 'udhaya']\n"
     ]
    }
   ],
   "source": [
    "print(sorted(students))"
   ]
  },
  {
   "cell_type": "code",
   "execution_count": 40,
   "metadata": {},
   "outputs": [
    {
     "name": "stdout",
     "output_type": "stream",
     "text": [
      "['faiyaz', 'kadhi', 'kiran', 'kumar', 'manju', 'sathish', 'thiru', 'thiru', 'udhaya']\n"
     ]
    }
   ],
   "source": [
    "students.sort()\n",
    "print(students)"
   ]
  },
  {
   "cell_type": "code",
   "execution_count": 41,
   "metadata": {},
   "outputs": [],
   "source": [
    "##Requirement: How many elements in the list:"
   ]
  },
  {
   "cell_type": "code",
   "execution_count": 42,
   "metadata": {},
   "outputs": [
    {
     "data": {
      "text/plain": [
       "9"
      ]
     },
     "execution_count": 42,
     "metadata": {},
     "output_type": "execute_result"
    }
   ],
   "source": [
    "len(students)"
   ]
  },
  {
   "cell_type": "code",
   "execution_count": null,
   "metadata": {},
   "outputs": [],
   "source": []
  }
 ],
 "metadata": {
  "kernelspec": {
   "display_name": "Python 3",
   "language": "python",
   "name": "python3"
  },
  "language_info": {
   "codemirror_mode": {
    "name": "ipython",
    "version": 3
   },
   "file_extension": ".py",
   "mimetype": "text/x-python",
   "name": "python",
   "nbconvert_exporter": "python",
   "pygments_lexer": "ipython3",
   "version": "3.8.3"
  }
 },
 "nbformat": 4,
 "nbformat_minor": 4
}
